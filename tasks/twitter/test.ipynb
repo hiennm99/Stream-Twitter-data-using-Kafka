{
 "cells": [
  {
   "cell_type": "code",
   "execution_count": 4,
   "metadata": {},
   "outputs": [],
   "source": [
    "import pandas as pd\n",
    "import sqlalchemy \n",
    "import pandas as pd\n",
    "from datetime import datetime\n",
    "\n",
    "# mysql_user='root',\n",
    "# mysql_password='minhhien1105'\n",
    "# mysql_host='localhost'\n",
    "# mysql_port='3306'\n",
    "# mysql_db='airflow'\n",
    "# mysql_engine=sqlalchemy.create_engine(f'mysql://{mysql_user}:{mysql_password}@{mysql_host}')\n",
    "# conn=mysql_engine.connect()"
   ]
  },
  {
   "cell_type": "code",
   "execution_count": 5,
   "metadata": {},
   "outputs": [
    {
     "name": "stdout",
     "output_type": "stream",
     "text": [
      "<class 'pandas._libs.tslibs.timestamps.Timestamp'>\n"
     ]
    }
   ],
   "source": [
    "df=pd.read_parquet('consumer.parquet')\n",
    "df['Created_at']=pd.to_datetime(df['Created_at'])\n",
    "print(type(df['Created_at'][0]))"
   ]
  },
  {
   "cell_type": "code",
   "execution_count": 7,
   "metadata": {},
   "outputs": [
    {
     "name": "stdout",
     "output_type": "stream",
     "text": [
      "<class 'pandas._libs.tslibs.timestamps.Timestamp'>\n"
     ]
    }
   ],
   "source": [
    "df\n",
    "print(type(df['Created_at'][0]))"
   ]
  },
  {
   "cell_type": "code",
   "execution_count": null,
   "metadata": {},
   "outputs": [],
   "source": []
  }
 ],
 "metadata": {
  "kernelspec": {
   "display_name": "Python 3",
   "language": "python",
   "name": "python3"
  },
  "language_info": {
   "codemirror_mode": {
    "name": "ipython",
    "version": 3
   },
   "file_extension": ".py",
   "mimetype": "text/x-python",
   "name": "python",
   "nbconvert_exporter": "python",
   "pygments_lexer": "ipython3",
   "version": "3.8.10"
  },
  "orig_nbformat": 4,
  "vscode": {
   "interpreter": {
    "hash": "916dbcbb3f70747c44a77c7bcd40155683ae19c65e1c03b4aa3499c5328201f1"
   }
  }
 },
 "nbformat": 4,
 "nbformat_minor": 2
}
